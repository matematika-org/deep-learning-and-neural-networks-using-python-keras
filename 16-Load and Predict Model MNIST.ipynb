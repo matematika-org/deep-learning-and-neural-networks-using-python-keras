{
 "cells": [
  {
   "cell_type": "markdown",
   "metadata": {},
   "source": [
    "# Load and Predict Model MNIST"
   ]
  },
  {
   "cell_type": "code",
   "execution_count": 6,
   "metadata": {},
   "outputs": [
    {
     "name": "stdout",
     "output_type": "stream",
     "text": [
      "Loaded model from disk\n",
      "The predicted digit is: \n",
      "2\n"
     ]
    }
   ],
   "source": [
    "from keras.models import model_from_json\n",
    "from PIL import Image\n",
    "import numpy\n",
    "\n",
    "# load json and create model\n",
    "json_file = open('model_mnist.json', 'r')\n",
    "loaded_model_json = json_file.read()\n",
    "json_file.close()\n",
    "loaded_model = model_from_json(loaded_model_json)\n",
    "\n",
    "\n",
    "# load weights into new model\n",
    "loaded_model.load_weights(\"model_mnist.h5\")\n",
    "print(\"Loaded model from disk\")\n",
    "\n",
    "# Load the image to predict\n",
    "img = Image.open('handwritten_numbers/two.png').convert(\"L\")\n",
    "img = img.resize((28,28))\n",
    "im2arr = numpy.array(img)\n",
    "im2arr = im2arr.reshape(1,1,28,28)\n",
    "\n",
    "#Do prediction\n",
    "y_pred = loaded_model.predict(im2arr)\n",
    "print(\"The predicted digit is: \")\n",
    "print(y_pred.argmax())"
   ]
  },
  {
   "cell_type": "code",
   "execution_count": null,
   "metadata": {},
   "outputs": [],
   "source": []
  }
 ],
 "metadata": {
  "kernelspec": {
   "display_name": "Python 3",
   "language": "python",
   "name": "python3"
  },
  "language_info": {
   "codemirror_mode": {
    "name": "ipython",
    "version": 3
   },
   "file_extension": ".py",
   "mimetype": "text/x-python",
   "name": "python",
   "nbconvert_exporter": "python",
   "pygments_lexer": "ipython3",
   "version": "3.6.8"
  }
 },
 "nbformat": 4,
 "nbformat_minor": 2
}

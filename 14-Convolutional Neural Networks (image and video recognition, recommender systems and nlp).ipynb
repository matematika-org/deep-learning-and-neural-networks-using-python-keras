{
 "cells": [
  {
   "cell_type": "markdown",
   "metadata": {},
   "source": [
    "# Convolutional Neural Networks (image and video recognition, recommender systems and nlp)"
   ]
  },
  {
   "cell_type": "markdown",
   "metadata": {},
   "source": [
    "### CNN - Handwritten Digit Recognition"
   ]
  },
  {
   "cell_type": "code",
   "execution_count": 5,
   "metadata": {},
   "outputs": [
    {
     "data": {
      "image/png": "[encoded data removed]",
      "text/plain": [
       "<Figure size 432x288 with 4 Axes>"
      ]
     },
     "metadata": {
      "needs_background": "light"
     },
     "output_type": "display_data"
    }
   ],
   "source": [
    "from keras.datasets import mnist\n",
    "import matplotlib.pyplot as plt\n",
    "\n",
    "(X_train, y_train), (X_test, y_test) = mnist.load_data()\n",
    "\n",
    "plt.subplot(221)\n",
    "plt.imshow(X_train[0], cmap=plt.get_cmap('gray'))\n",
    "\n",
    "plt.subplot(222)\n",
    "plt.imshow(X_train[1], cmap=plt.get_cmap('gray'))\n",
    "\n",
    "plt.subplot(223)\n",
    "plt.imshow(X_train[2], cmap=plt.get_cmap('gray'))\n",
    "\n",
    "plt.subplot(224)\n",
    "plt.imshow(X_train[3], cmap=plt.get_cmap('gray'))\n",
    "\n",
    "plt.show()"
   ]
  },
  {
   "cell_type": "code",
   "execution_count": 21,
   "metadata": {},
   "outputs": [
    {
     "data": {
      "image/png": "[encoded data removed]",
      "text/plain": [
       "<Figure size 432x288 with 9 Axes>"
      ]
     },
     "metadata": {
      "needs_background": "light"
     },
     "output_type": "display_data"
    }
   ],
   "source": [
    "from keras.datasets import mnist\n",
    "import matplotlib.pyplot as plt\n",
    "\n",
    "(X_train, y_train), (X_test, y_test) = mnist.load_data()\n",
    "\n",
    "for i in range(0,9):\n",
    "    plt.subplot(330 + 1 + i)\n",
    "    plt.imshow(X_train[i], cmap=plt.get_cmap('gray'))\n",
    "\n",
    "plt.show()"
   ]
  },
  {
   "cell_type": "markdown",
   "metadata": {},
   "source": [
    "### Multi-Layer Perceptron Model using MNIST"
   ]
  },
  {
   "cell_type": "code",
   "execution_count": 10,
   "metadata": {
    "scrolled": true
   },
   "outputs": [
    {
     "name": "stdout",
     "output_type": "stream",
     "text": [
      "Train on 60000 samples, validate on 10000 samples\n",
      "Epoch 1/10\n",
      " - 7s - loss: 0.2782 - acc: 0.9211 - val_loss: 0.1409 - val_acc: 0.9586\n",
      "Epoch 2/10\n",
      " - 7s - loss: 0.1124 - acc: 0.9668 - val_loss: 0.0914 - val_acc: 0.9714\n",
      "Epoch 3/10\n",
      " - 7s - loss: 0.0725 - acc: 0.9796 - val_loss: 0.0808 - val_acc: 0.9759\n",
      "Epoch 4/10\n",
      " - 7s - loss: 0.0516 - acc: 0.9849 - val_loss: 0.0743 - val_acc: 0.9776\n",
      "Epoch 5/10\n",
      " - 7s - loss: 0.0377 - acc: 0.9894 - val_loss: 0.0638 - val_acc: 0.9806\n",
      "Epoch 6/10\n",
      " - 7s - loss: 0.0276 - acc: 0.9926 - val_loss: 0.0653 - val_acc: 0.9800\n",
      "Epoch 7/10\n",
      " - 7s - loss: 0.0225 - acc: 0.9940 - val_loss: 0.0623 - val_acc: 0.9803\n",
      "Epoch 8/10\n",
      " - 7s - loss: 0.0144 - acc: 0.9969 - val_loss: 0.0581 - val_acc: 0.9814\n",
      "Epoch 9/10\n",
      " - 7s - loss: 0.0117 - acc: 0.9974 - val_loss: 0.0551 - val_acc: 0.9817\n",
      "Epoch 10/10\n",
      " - 7s - loss: 0.0089 - acc: 0.9980 - val_loss: 0.0586 - val_acc: 0.9816\n",
      "Baseline Error: 1.84%\n"
     ]
    }
   ],
   "source": [
    "import numpy\n",
    "from keras.datasets import mnist\n",
    "from keras.models import Sequential\n",
    "from keras.layers import Dense\n",
    "from keras.utils import np_utils\n",
    "\n",
    "seed = 7\n",
    "numpy.random.seed(seed)\n",
    "\n",
    "(X_train, y_train), (X_test, y_test) = mnist.load_data()\n",
    "\n",
    "num_pixels = X_train.shape[1] * X_train.shape[2]\n",
    "X_train = X_train.reshape(X_train.shape[0], num_pixels).astype('float32')\n",
    "X_test = X_test.reshape(X_test.shape[0], num_pixels).astype('float32')\n",
    "\n",
    "X_train = X_train / 255\n",
    "X_test = X_test / 255\n",
    "\n",
    "y_train = np_utils.to_categorical(y_train)\n",
    "y_test = np_utils.to_categorical(y_test)\n",
    "num_classes = y_test.shape[1]\n",
    "\n",
    "\n",
    "def baseline_model():\n",
    "    model = Sequential()\n",
    "    model.add(Dense(num_pixels, input_dim=num_pixels, activation='relu'))\n",
    "    model.add(Dense(num_classes, activation='softmax'))\n",
    "    model.compile(loss='categorical_crossentropy', optimizer='adam', metrics=['accuracy'])\n",
    "    return model\n",
    "\n",
    "model = baseline_model()\n",
    "model.fit(X_train, y_train, validation_data=(X_test, y_test), epochs=10, batch_size=200, verbose=2)\n",
    "\n",
    "scores = model.evaluate(X_test, y_test, verbose=0)\n",
    "\n",
    "print(\"Baseline Error: %.2f%%\" % (100-scores[1]*100))\n"
   ]
  },
  {
   "cell_type": "markdown",
   "metadata": {},
   "source": [
    "### Convolutional Neural Network Model using MNIST"
   ]
  },
  {
   "cell_type": "code",
   "execution_count": 17,
   "metadata": {},
   "outputs": [
    {
     "name": "stdout",
     "output_type": "stream",
     "text": [
      "Train on 60000 samples, validate on 10000 samples\n",
      "Epoch 1/10\n",
      " - 106s - loss: 0.2248 - acc: 0.9356 - val_loss: 0.0780 - val_acc: 0.9760\n",
      "Epoch 2/10\n",
      " - 104s - loss: 0.0708 - acc: 0.9787 - val_loss: 0.0449 - val_acc: 0.9851\n",
      "Epoch 3/10\n",
      " - 105s - loss: 0.0504 - acc: 0.9845 - val_loss: 0.0431 - val_acc: 0.9857\n",
      "Epoch 4/10\n",
      " - 109s - loss: 0.0385 - acc: 0.9882 - val_loss: 0.0398 - val_acc: 0.9873\n",
      "Epoch 5/10\n",
      " - 115s - loss: 0.0320 - acc: 0.9901 - val_loss: 0.0337 - val_acc: 0.9889\n",
      "Epoch 6/10\n",
      " - 110s - loss: 0.0265 - acc: 0.9918 - val_loss: 0.0312 - val_acc: 0.9895\n",
      "Epoch 7/10\n",
      " - 104s - loss: 0.0216 - acc: 0.9932 - val_loss: 0.0365 - val_acc: 0.9885\n",
      "Epoch 8/10\n",
      " - 109s - loss: 0.0189 - acc: 0.9944 - val_loss: 0.0317 - val_acc: 0.9894\n",
      "Epoch 9/10\n",
      " - 111s - loss: 0.0152 - acc: 0.9952 - val_loss: 0.0310 - val_acc: 0.9896\n",
      "Epoch 10/10\n",
      " - 112s - loss: 0.0142 - acc: 0.9958 - val_loss: 0.0316 - val_acc: 0.9895\n",
      "Baseline Error: 1.05%\n"
     ]
    }
   ],
   "source": [
    "import numpy\n",
    "from keras.datasets import mnist\n",
    "from keras.models import Sequential\n",
    "from keras.layers import Dense\n",
    "from keras.utils import np_utils\n",
    "from keras.layers.convolutional import Conv2D\n",
    "from keras.layers.convolutional import MaxPooling2D\n",
    "from keras.layers import Dropout\n",
    "from keras.layers import Flatten\n",
    "from keras import backend as K\n",
    "\n",
    "K.set_image_dim_ordering('th')\n",
    "\n",
    "seed = 7\n",
    "numpy.random.seed(seed)\n",
    "\n",
    "(X_train, y_train), (X_test, y_test) = mnist.load_data()\n",
    "\n",
    "\n",
    "X_train = X_train.reshape(X_train.shape[0], 1, 28, 28).astype('float32')\n",
    "X_test = X_test.reshape(X_test.shape[0], 1, 28, 28).astype('float32')\n",
    "\n",
    "X_train = X_train / 255\n",
    "X_test = X_test / 255\n",
    "\n",
    "y_train = np_utils.to_categorical(y_train)\n",
    "y_test = np_utils.to_categorical(y_test)\n",
    "num_classes = y_test.shape[1]\n",
    "\n",
    "\n",
    "def baseline_model():\n",
    "    model = Sequential()\n",
    "    model.add(Conv2D(32, (5, 5), padding='valid', input_shape=(1, 28, 28), activation='relu'))\n",
    "    model.add(MaxPooling2D(pool_size=(2, 2)))\n",
    "    model.add(Dropout(0.2)) \n",
    "    model.add(Flatten())\n",
    "    \n",
    "    model.add(Dense(128, activation='relu'))\n",
    "    model.add(Dense(num_classes, activation='softmax'))\n",
    "    model.compile(loss='categorical_crossentropy', optimizer='adam', metrics=['accuracy'])\n",
    "    return model\n",
    "\n",
    "model = baseline_model()\n",
    "model.fit(X_train, y_train, validation_data=(X_test, y_test), epochs=10, batch_size=200, verbose=2)\n",
    "\n",
    "scores = model.evaluate(X_test, y_test, verbose=0)\n",
    "\n",
    "print(\"Baseline Error: %.2f%%\" % (100-scores[1]*100))\n"
   ]
  },
  {
   "cell_type": "markdown",
   "metadata": {},
   "source": [
    "# Large CNN Using MNIST"
   ]
  },
  {
   "cell_type": "code",
   "execution_count": 18,
   "metadata": {},
   "outputs": [
    {
     "name": "stdout",
     "output_type": "stream",
     "text": [
      "Train on 60000 samples, validate on 10000 samples\n",
      "Epoch 1/10\n",
      " - 101s - loss: 0.3867 - acc: 0.8819 - val_loss: 0.0882 - val_acc: 0.9723\n",
      "Epoch 2/10\n",
      " - 98s - loss: 0.0989 - acc: 0.9703 - val_loss: 0.0544 - val_acc: 0.9825\n",
      "Epoch 3/10\n",
      " - 97s - loss: 0.0733 - acc: 0.9771 - val_loss: 0.0430 - val_acc: 0.9860\n",
      "Epoch 4/10\n",
      " - 101s - loss: 0.0601 - acc: 0.9819 - val_loss: 0.0374 - val_acc: 0.9876\n",
      "Epoch 5/10\n",
      " - 96s - loss: 0.0513 - acc: 0.9840 - val_loss: 0.0373 - val_acc: 0.9881\n",
      "Epoch 6/10\n",
      " - 97s - loss: 0.0445 - acc: 0.9855 - val_loss: 0.0298 - val_acc: 0.9902\n",
      "Epoch 7/10\n",
      " - 98s - loss: 0.0389 - acc: 0.9881 - val_loss: 0.0299 - val_acc: 0.9901\n",
      "Epoch 8/10\n",
      " - 100s - loss: 0.0361 - acc: 0.9887 - val_loss: 0.0267 - val_acc: 0.9909\n",
      "Epoch 9/10\n",
      " - 97s - loss: 0.0324 - acc: 0.9898 - val_loss: 0.0243 - val_acc: 0.9925\n",
      "Epoch 10/10\n",
      " - 99s - loss: 0.0306 - acc: 0.9905 - val_loss: 0.0268 - val_acc: 0.9913\n",
      "Baseline Error: 0.87%\n"
     ]
    }
   ],
   "source": [
    "import numpy\n",
    "from keras.datasets import mnist\n",
    "from keras.models import Sequential\n",
    "from keras.layers import Dense\n",
    "from keras.utils import np_utils\n",
    "from keras.layers.convolutional import Conv2D\n",
    "from keras.layers.convolutional import MaxPooling2D\n",
    "from keras.layers import Dropout\n",
    "from keras.layers import Flatten\n",
    "from keras import backend as K\n",
    "\n",
    "K.set_image_dim_ordering('th')\n",
    "\n",
    "seed = 7\n",
    "numpy.random.seed(seed)\n",
    "\n",
    "(X_train, y_train), (X_test, y_test) = mnist.load_data()\n",
    "\n",
    "\n",
    "X_train = X_train.reshape(X_train.shape[0], 1, 28, 28).astype('float32')\n",
    "X_test = X_test.reshape(X_test.shape[0], 1, 28, 28).astype('float32')\n",
    "\n",
    "X_train = X_train / 255\n",
    "X_test = X_test / 255\n",
    "\n",
    "y_train = np_utils.to_categorical(y_train)\n",
    "y_test = np_utils.to_categorical(y_test)\n",
    "num_classes = y_test.shape[1]\n",
    "\n",
    "\n",
    "def baseline_model():\n",
    "    model = Sequential()\n",
    "    model.add(Conv2D(30, (5, 5), padding='valid', input_shape=(1, 28, 28), activation='relu'))\n",
    "    model.add(MaxPooling2D(pool_size=(2, 2)))\n",
    "    model.add(Conv2D(15, (3, 3), activation='relu'))\n",
    "    model.add(MaxPooling2D(pool_size=(2, 2)))\n",
    "    model.add(Dropout(0.2)) \n",
    "    model.add(Flatten())\n",
    "    model.add(Dense(128, activation='relu'))\n",
    "    model.add(Dense(50, activation='relu'))\n",
    "    model.add(Dense(num_classes, activation='softmax'))\n",
    "    model.compile(loss='categorical_crossentropy', optimizer='adam', metrics=['accuracy'])\n",
    "    return model\n",
    "\n",
    "model = baseline_model()\n",
    "model.fit(X_train, y_train, validation_data=(X_test, y_test), epochs=10, batch_size=200, verbose=2)\n",
    "\n",
    "scores = model.evaluate(X_test, y_test, verbose=0)\n",
    "\n",
    "print(\"Baseline Error: %.2f%%\" % (100-scores[1]*100))\n"
   ]
  }
 ],
 "metadata": {
  "kernelspec": {
   "display_name": "Python 3",
   "language": "python",
   "name": "python3"
  },
  "language_info": {
   "codemirror_mode": {
    "name": "ipython",
    "version": 3
   },
   "file_extension": ".py",
   "mimetype": "text/x-python",
   "name": "python",
   "nbconvert_exporter": "python",
   "pygments_lexer": "ipython3",
   "version": "3.6.8"
  }
 },
 "nbformat": 4,
 "nbformat_minor": 2
}

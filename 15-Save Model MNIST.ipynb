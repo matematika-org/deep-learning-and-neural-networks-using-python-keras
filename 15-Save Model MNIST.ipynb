{
 "cells": [
  {
   "cell_type": "markdown",
   "metadata": {},
   "source": [
    "# Save Model MNIST"
   ]
  },
  {
   "cell_type": "code",
   "execution_count": 2,
   "metadata": {},
   "outputs": [
    {
     "name": "stderr",
     "output_type": "stream",
     "text": [
      "Using TensorFlow backend.\n"
     ]
    },
    {
     "name": "stdout",
     "output_type": "stream",
     "text": [
      "Train on 60000 samples, validate on 10000 samples\n",
      "Epoch 1/10\n",
      " - 172s - loss: 0.3867 - acc: 0.8817 - val_loss: 0.0866 - val_acc: 0.9717\n",
      "Epoch 2/10\n",
      " - 174s - loss: 0.0987 - acc: 0.9700 - val_loss: 0.0550 - val_acc: 0.9824\n",
      "Epoch 3/10\n",
      " - 172s - loss: 0.0732 - acc: 0.9772 - val_loss: 0.0417 - val_acc: 0.9871\n",
      "Epoch 4/10\n",
      " - 173s - loss: 0.0603 - acc: 0.9816 - val_loss: 0.0366 - val_acc: 0.9880\n",
      "Epoch 5/10\n",
      " - 175s - loss: 0.0517 - acc: 0.9837 - val_loss: 0.0340 - val_acc: 0.9896\n",
      "Epoch 6/10\n",
      " - 177s - loss: 0.0444 - acc: 0.9858 - val_loss: 0.0282 - val_acc: 0.9905\n",
      "Epoch 7/10\n",
      " - 174s - loss: 0.0389 - acc: 0.9881 - val_loss: 0.0285 - val_acc: 0.9900\n",
      "Epoch 8/10\n",
      " - 179s - loss: 0.0364 - acc: 0.9882 - val_loss: 0.0266 - val_acc: 0.9909\n",
      "Epoch 9/10\n",
      " - 173s - loss: 0.0322 - acc: 0.9898 - val_loss: 0.0227 - val_acc: 0.9926\n",
      "Epoch 10/10\n",
      " - 176s - loss: 0.0300 - acc: 0.9906 - val_loss: 0.0269 - val_acc: 0.9905\n"
     ]
    },
    {
     "data": {
      "text/plain": [
       "<keras.callbacks.History at 0x7f44743dc3c8>"
      ]
     },
     "execution_count": 2,
     "metadata": {},
     "output_type": "execute_result"
    }
   ],
   "source": [
    "import numpy\n",
    "from keras.datasets import mnist\n",
    "from keras.models import Sequential\n",
    "from keras.layers import Dense\n",
    "from keras.utils import np_utils\n",
    "from keras.layers.convolutional import Conv2D\n",
    "from keras.layers.convolutional import MaxPooling2D\n",
    "from keras.layers import Dropout\n",
    "from keras.layers import Flatten\n",
    "from keras import backend as K\n",
    "\n",
    "K.set_image_dim_ordering('th')\n",
    "\n",
    "seed = 7\n",
    "numpy.random.seed(seed)\n",
    "\n",
    "(X_train, y_train), (X_test, y_test) = mnist.load_data()\n",
    "\n",
    "\n",
    "X_train = X_train.reshape(X_train.shape[0], 1, 28, 28).astype('float32')\n",
    "X_test = X_test.reshape(X_test.shape[0], 1, 28, 28).astype('float32')\n",
    "\n",
    "X_train = X_train / 255\n",
    "X_test = X_test / 255\n",
    "\n",
    "y_train = np_utils.to_categorical(y_train)\n",
    "y_test = np_utils.to_categorical(y_test)\n",
    "num_classes = y_test.shape[1]\n",
    "\n",
    "\n",
    "\n",
    "def baseline_model():\n",
    "    model = Sequential()\n",
    "    model.add(Conv2D(30, (5, 5), padding='valid', input_shape=(1, 28, 28), activation='relu'))\n",
    "    model.add(MaxPooling2D(pool_size=(2, 2)))\n",
    "    model.add(Conv2D(15, (3, 3), activation='relu'))\n",
    "    model.add(MaxPooling2D(pool_size=(2, 2)))\n",
    "    model.add(Dropout(0.2)) \n",
    "    model.add(Flatten())\n",
    "    model.add(Dense(128, activation='relu'))\n",
    "    model.add(Dense(50, activation='relu'))\n",
    "    model.add(Dense(num_classes, activation='softmax'))\n",
    "    model.compile(loss='categorical_crossentropy', optimizer='adam', metrics=['accuracy'])\n",
    "    return model\n",
    "\n",
    "model = baseline_model()\n",
    "model.fit(X_train, y_train, validation_data=(X_test, y_test), epochs=10, batch_size=200, verbose=2)\n",
    "\n",
    "\n"
   ]
  },
  {
   "cell_type": "code",
   "execution_count": 4,
   "metadata": {},
   "outputs": [
    {
     "name": "stdout",
     "output_type": "stream",
     "text": [
      "Saved the model to the computer\n"
     ]
    }
   ],
   "source": [
    "#save model as Json\n",
    "model_json = model.to_json()\n",
    "with open(\"model_mnist.json\", \"w\") as json_file:\n",
    "    json_file.write(model_json)\n",
    "\n",
    "#save the weights as hdf5\n",
    "model.save_weights(\"model_mnist.h5\")\n",
    "\n",
    "print(\"Saved the model to the computer\")\n",
    "\n"
   ]
  },
  {
   "cell_type": "code",
   "execution_count": null,
   "metadata": {},
   "outputs": [],
   "source": []
  }
 ],
 "metadata": {
  "kernelspec": {
   "display_name": "Python 3",
   "language": "python",
   "name": "python3"
  },
  "language_info": {
   "codemirror_mode": {
    "name": "ipython",
    "version": 3
   },
   "file_extension": ".py",
   "mimetype": "text/x-python",
   "name": "python",
   "nbconvert_exporter": "python",
   "pygments_lexer": "ipython3",
   "version": "3.6.8"
  }
 },
 "nbformat": 4,
 "nbformat_minor": 2
}

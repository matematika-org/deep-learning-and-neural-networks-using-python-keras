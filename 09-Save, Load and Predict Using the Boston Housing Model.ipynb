{
 "cells": [
  {
   "cell_type": "markdown",
   "metadata": {},
   "source": [
    "# Save, Load and Predict Using the Boston Housing Model"
   ]
  },
  {
   "cell_type": "code",
   "execution_count": 6,
   "metadata": {},
   "outputs": [
    {
     "name": "stdout",
     "output_type": "stream",
     "text": [
      "Reults: -32.56% (23.57%) MSE\n"
     ]
    }
   ],
   "source": [
    "import numpy\n",
    "import pandas\n",
    "from keras.models import Sequential\n",
    "from keras.layers import Dense\n",
    "from keras.wrappers.scikit_learn import KerasRegressor\n",
    "from sklearn.model_selection import cross_val_score\n",
    "from sklearn.model_selection import StratifiedKFold\n",
    "from sklearn.model_selection import KFold\n",
    "\n",
    "seed = 7\n",
    "numpy.random.seed(seed)\n",
    "\n",
    "dataframe = pandas.read_csv(\"04-BostonHousing.csv\", delim_whitespace=True, header=None)\n",
    "dataset = dataframe.values\n",
    "\n",
    "X = dataset[:,0:13]\n",
    "y = dataset[:,13]\n",
    "\n",
    "def baseline_model():\n",
    "    model = Sequential()\n",
    "    model.add(Dense(13, input_dim=13, kernel_initializer='normal', activation='relu'))\n",
    "    model.add(Dense(1, kernel_initializer='normal'))\n",
    "    model.compile(loss='mean_squared_error', optimizer='adam')\n",
    "    return model\n",
    "\n",
    "estimator = KerasRegressor(build_fn=baseline_model, epochs=100, batch_size=5, verbose=0)\n",
    "\n",
    "kfold = KFold(n_splits=10, random_state=seed)\n",
    "results = cross_val_score(estimator, X, Y, cv=kfold)\n",
    "\n",
    "print(\"Reults: %.2f%% (%.2f%%) MSE\" % (results.mean(), results.std()))\n"
   ]
  },
  {
   "cell_type": "code",
   "execution_count": 7,
   "metadata": {},
   "outputs": [
    {
     "name": "stdout",
     "output_type": "stream",
     "text": [
      "Saved the model to the computer\n"
     ]
    }
   ],
   "source": [
    "estimator.fit(X,y)\n",
    "\n",
    "#save model as Json\n",
    "model_json = estimator.model.to_json()\n",
    "with open(\"model_boston.json\", \"w\") as json_file:\n",
    "    json_file.write(model_json)\n",
    "\n",
    "#save the weights as hdf5\n",
    "estimator.model.save_weights(\"model_boston.h5\")\n",
    "\n",
    "print(\"Saved the model to the computer\")"
   ]
  },
  {
   "cell_type": "code",
   "execution_count": 8,
   "metadata": {},
   "outputs": [
    {
     "name": "stdout",
     "output_type": "stream",
     "text": [
      "Loaded model from the computer\n"
     ]
    }
   ],
   "source": [
    "from numpy import array\n",
    "\n",
    "from keras.models import model_from_json\n",
    "\n",
    "#load the json from the file and recreate the model\n",
    "json_file = open('model_boston.json', 'r')\n",
    "loaded_model_json = json_file.read()\n",
    "json_file.close()\n",
    "loaded_model = model_from_json(loaded_model_json)\n",
    "\n",
    "#load the weights from hdf5 file\n",
    "loaded_model.load_weights(\"model_boston.h5\")\n",
    "print(\"Loaded model from the computer\")"
   ]
  },
  {
   "cell_type": "code",
   "execution_count": 9,
   "metadata": {},
   "outputs": [
    {
     "name": "stdout",
     "output_type": "stream",
     "text": [
      "X=[1.9650e-02 8.0000e+01 1.7600e+00 0.0000e+00 3.8500e-01 6.2300e+00\n",
      " 3.1500e+01 9.0892e+00 1.0000e+00 2.4100e+02 1.8200e+01 3.4160e+02\n",
      " 1.2930e+01], Predicted=[18.387457]\n"
     ]
    }
   ],
   "source": [
    "# predict the output from new instance where we do not know the answer\n",
    "Xnew = array([[0.01965,80,1.76,\"0\",0.385,6.23,31.5,9.0892,1,241,18.2,341.6,12.93]])\n",
    "\n",
    "# convert data type of array to float64 \n",
    "Xnew = numpy.array(Xnew, dtype=numpy.float64)\n",
    "\n",
    "# make a prediction\n",
    "ynew = loaded_model.predict(Xnew)\n",
    "# show the inputs and predicted outputs\n",
    "print(\"X=%s, Predicted=%s\" % (Xnew[0], ynew[0]))\n"
   ]
  }
 ],
 "metadata": {
  "kernelspec": {
   "display_name": "Python 3",
   "language": "python",
   "name": "python3"
  },
  "language_info": {
   "codemirror_mode": {
    "name": "ipython",
    "version": 3
   },
   "file_extension": ".py",
   "mimetype": "text/x-python",
   "name": "python",
   "nbconvert_exporter": "python",
   "pygments_lexer": "ipython3",
   "version": "3.6.8"
  }
 },
 "nbformat": 4,
 "nbformat_minor": 2
}
